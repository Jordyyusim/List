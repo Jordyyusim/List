{
 "cells": [
  {
   "cell_type": "markdown",
   "metadata": {},
   "source": [
    "### __FIND VALUES BY CALLING THE INDEX__"
   ]
  },
  {
   "cell_type": "code",
   "execution_count": null,
   "metadata": {},
   "outputs": [],
   "source": [
    "x = [1,2,3,4]\n",
    "y = range(0, 10)\n",
    "z = range(0, 10, 3) \n",
    "print(list(y))\n",
    "print(list(z))"
   ]
  },
  {
   "cell_type": "code",
   "execution_count": null,
   "metadata": {},
   "outputs": [],
   "source": [
    "# a = 'Purwadhika'\n",
    "# b = [1,2,3]\n",
    "# c = 12345\n",
    "# print(list(a))\n",
    "# print(list(b))\n",
    "# print(list(str(c)))"
   ]
  },
  {
   "cell_type": "code",
   "execution_count": null,
   "metadata": {},
   "outputs": [],
   "source": [
    "x = [\n",
    "    [1,2,3], \n",
    "    [4,5,6] \n",
    "]\n",
    "\n",
    "z = [\n",
    "    [7, 8],\n",
    "    [9, 10]\n",
    "]\n",
    "# print(len(x))\n",
    "# print(x[0])\n",
    "# print(x[1])\n",
    "\n",
    "# print(x[0][0])\n",
    "# print(x[1][2])\n",
    "# print(x + x) \n",
    "\n",
    "# y = [x]\n",
    "# print(y)\n",
    "# print(y[0][1][0])\n",
    "# print([y[0][0][0], y[0][1][2]])\n",
    "\n",
    "# y = ([x] + [z])\n",
    "# print(y)\n",
    "# print(y[1][1][0])"
   ]
  },
  {
   "cell_type": "code",
   "execution_count": null,
   "metadata": {},
   "outputs": [],
   "source": [
    "x = [(1, 2), (3, 4)]\n",
    "# x[0] = [1, 2]\n",
    "# print(x)\n",
    "# # x[0] = 'Andi'\n",
    "# # print(x)\n",
    "x[0] = list(x[0])\n",
    "print(x)\n",
    "# x[0][0] = 'Andi'"
   ]
  },
  {
   "cell_type": "code",
   "execution_count": null,
   "metadata": {},
   "outputs": [],
   "source": [
    "# y = [\n",
    "#     (1, ['a', 'b']),\n",
    "#     (3, 4)\n",
    "# ]\n",
    "# y[0][1][0] = 'Andi'\n",
    "# print(y)"
   ]
  }
 ],
 "metadata": {
  "kernelspec": {
   "display_name": "Python 3",
   "language": "python",
   "name": "python3"
  },
  "language_info": {
   "codemirror_mode": {
    "name": "ipython",
    "version": 3
   },
   "file_extension": ".py",
   "mimetype": "text/x-python",
   "name": "python",
   "nbconvert_exporter": "python",
   "pygments_lexer": "ipython3",
   "version": "3.8.1"
  }
 },
 "nbformat": 4,
 "nbformat_minor": 4
}
