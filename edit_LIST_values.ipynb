{
 "cells": [
  {
   "cell_type": "markdown",
   "metadata": {},
   "source": [
    "### __EDITING VALUES IN LIST__\n",
    "\n",
    "#### append = adding a value at last index\n",
    "#### insert = adding a value to chosen index / _x.insert(index, value)_\n",
    "#### remove = deleting a value from a list / _x.remove(value)_\n",
    "#### clear = deleting all values from a list / _x.clear()_\n",
    "#### pop = deleting a value from a list according to index and it's show the deleted value / _x.pop(index)_\n",
    "#### del = deleting a value from a list according to index / del x[index]\n"
   ]
  },
  {
   "cell_type": "code",
   "execution_count": 21,
   "metadata": {},
   "outputs": [
    {
     "data": {
      "text/plain": [
       "['Andi', 4, 6, 8, 10, 12, 14, 16]"
      ]
     },
     "execution_count": 21,
     "metadata": {},
     "output_type": "execute_result"
    }
   ],
   "source": [
    "v = range(0, 20, 2)\n",
    "v = list(v)\n",
    "v\n",
    "# print(list(v))\n",
    "# print(v[19])\n",
    "v[0] = 'Andi'\n",
    "v[-1] = 'Budi'\n",
    "v\n",
    "#v.append(123) \n",
    "\n",
    "#v.insert(0, caca) \n",
    "#v.insert(1, 'coco')\n",
    "\n",
    "#v.remove('Andi')\n",
    "\n",
    "# v.clear()\n",
    "\n",
    "v.pop() #ilangin index terakhir\n",
    "# v.pop(0) #ilangin sesuai indexnya\n",
    "\n",
    "del v[1]\n",
    "v"
   ]
  },
  {
   "cell_type": "markdown",
   "metadata": {},
   "source": [
    "### SORTING  AND REVERSING VALUES\n",
    "#### sort = sorting the values ascending / _x.sort()_\n",
    "#### sort(reverse=True) = sorting the values descending / _x.sort(reverse=True)\n",
    "#### reverse = reverse value without sorting / x.reverse()"
   ]
  },
  {
   "cell_type": "code",
   "execution_count": null,
   "metadata": {},
   "outputs": [],
   "source": [
    "# v.sort() \n",
    "# print(v)\n",
    "# v.sort(reverse=True) \n",
    "# print(v)\n",
    "# v.reverse()\n",
    "# print(v)"
   ]
  },
  {
   "cell_type": "code",
   "execution_count": null,
   "metadata": {},
   "outputs": [],
   "source": [
    "# s = ['anak', 'andi', 'budi', 'ayam']\n",
    "# # s.sort()\n",
    "# # print(s)\n",
    "# # s.sort(reverse=True)\n",
    "# # print(s)\n",
    "# s.reverse()\n",
    "# print(s)"
   ]
  },
  {
   "cell_type": "markdown",
   "metadata": {},
   "source": [
    "### EXTENDING VALUE\n",
    "#### extend same with a plus"
   ]
  },
  {
   "cell_type": "code",
   "execution_count": 11,
   "metadata": {},
   "outputs": [
    {
     "name": "stdout",
     "output_type": "stream",
     "text": [
      "['apel', 'belimbing', 'ceri', 1, 2, 3]\n",
      "['apel', 'belimbing', 'ceri', 1, 2, 3, 1, 2, 3]\n"
     ]
    }
   ],
   "source": [
    "a = ['apel', 'belimbing', 'ceri']\n",
    "b = [1, 2, 3]\n",
    "\n",
    "a.extend(b)\n",
    "print(a)"
   ]
  },
  {
   "cell_type": "code",
   "execution_count": null,
   "metadata": {},
   "outputs": [],
   "source": []
  }
 ],
 "metadata": {
  "kernelspec": {
   "display_name": "Python 3",
   "language": "python",
   "name": "python3"
  },
  "language_info": {
   "codemirror_mode": {
    "name": "ipython",
    "version": 3
   },
   "file_extension": ".py",
   "mimetype": "text/x-python",
   "name": "python",
   "nbconvert_exporter": "python",
   "pygments_lexer": "ipython3",
   "version": "3.8.1"
  }
 },
 "nbformat": 4,
 "nbformat_minor": 4
}
