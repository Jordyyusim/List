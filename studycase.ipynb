{
 "cells": [
  {
   "cell_type": "markdown",
   "metadata": {},
   "source": [
    "### _WHAT'S THE DAY?_"
   ]
  },
  {
   "cell_type": "code",
   "execution_count": null,
   "metadata": {},
   "outputs": [],
   "source": [
    "# hari = ['Senin', 'Selasa', 'Rabu', 'Kamis', 'Jumat', 'Sabtu', 'Minggu']\n",
    "# print(hari[0])\n",
    "# print(hari[0:4])\n",
    "\n",
    "# #sekarang hari Rabu, hari apa 100 hari lagi?\n",
    "# #sekarang hari Rabu, hari apa 100 hari lalu?\n",
    "# now = 'Rabu'\n",
    "# harilagi = 100\n",
    "# sisahari = int(harilagi % len(hari))\n",
    "# haridicari = hari[(hari.index(now) + sisahari) % 7]\n",
    "# print(haridicari)"
   ]
  }
 ],
 "metadata": {
  "kernelspec": {
   "display_name": "Python 3",
   "language": "python",
   "name": "python3"
  },
  "language_info": {
   "codemirror_mode": {
    "name": "ipython",
    "version": 3
   },
   "file_extension": ".py",
   "mimetype": "text/x-python",
   "name": "python",
   "nbconvert_exporter": "python",
   "pygments_lexer": "ipython3",
   "version": "3.8.1"
  }
 },
 "nbformat": 4,
 "nbformat_minor": 4
}
